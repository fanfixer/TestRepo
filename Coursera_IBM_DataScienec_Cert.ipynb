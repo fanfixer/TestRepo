{
 "cells": [
  {
   "cell_type": "markdown",
   "id": "890f48aa-d52b-4c9d-9696-cae00d98bb0c",
   "metadata": {},
   "source": [
    "# Data Science Tools and Ecosystem"
   ]
  },
  {
   "cell_type": "markdown",
   "id": "2598ee3e-b1ae-4199-9956-6f52904205df",
   "metadata": {},
   "source": [
    "## Author\n",
    "Vyncent Lowery"
   ]
  },
  {
   "cell_type": "markdown",
   "id": "ba9a881b-2afe-429c-9f78-ed415b41cd3f",
   "metadata": {},
   "source": [
    "In this notebook, Data Science Tools and Ecosystem are summarized."
   ]
  },
  {
   "cell_type": "markdown",
   "id": "bc9d4a9b-3ab5-479d-b7d4-2e6e68e1ed89",
   "metadata": {},
   "source": [
    "Objectives:\n",
    "* Knowledge of popular languages utilised in Data Science\n",
    "* Knowledge of popular libraries utilised in Data Science\n",
    "* Knowledge of popular tools utilised in Data Science\n",
    "* How to convert between markdown and code cells\n",
    "* How to create different types of headings "
   ]
  },
  {
   "cell_type": "markdown",
   "id": "4cd917a8-210c-4e59-9ea2-59c72ffaacd1",
   "metadata": {},
   "source": [
    "Some of the popular languages that Data Scientists use are:\n",
    "1. Python\n",
    "2. R\n",
    "3. SQL"
   ]
  },
  {
   "cell_type": "markdown",
   "id": "c9ff0257-67c8-4b28-bfa2-a2d50cffced0",
   "metadata": {},
   "source": [
    "Some of the commonly used libraries used by Data Scientists include:\n",
    "1. Numpy (Python)\n",
    "2. Pandas (Python)\n",
    "3. Matplotlib (Python)\n",
    "4. Tensorflow (Python)\n",
    "5. Caret (R)\n",
    "6. GGPLOT2 (R)"
   ]
  },
  {
   "cell_type": "markdown",
   "id": "3f8a2f83-c969-4ef9-8099-1ea92cb76570",
   "metadata": {},
   "source": [
    "| Data Science Tools |\n",
    "|--------------------|\n",
    "| Jupyter Notebook |\n",
    "| R Studio |\n",
    "| VS Code |"
   ]
  },
  {
   "cell_type": "markdown",
   "id": "668ebf44-e25c-44b2-8b8e-a13368abe501",
   "metadata": {},
   "source": [
    "### Below are a few examples of evaluating arithmetic expressions in Python"
   ]
  },
  {
   "cell_type": "code",
   "execution_count": 26,
   "id": "0efd9222-9564-425b-b4b7-ebfee77cacf7",
   "metadata": {},
   "outputs": [
    {
     "data": {
      "text/plain": [
       "17"
      ]
     },
     "execution_count": 26,
     "metadata": {},
     "output_type": "execute_result"
    }
   ],
   "source": [
    "# This a simple arithmetic expression to mutiply then add integers\n",
    "\n",
    "(3*4)+5"
   ]
  },
  {
   "cell_type": "code",
   "execution_count": 28,
   "id": "1b5dc6e5-410f-4cbd-9a54-5287fb7634af",
   "metadata": {},
   "outputs": [
    {
     "data": {
      "text/plain": [
       "3.3333333333333335"
      ]
     },
     "execution_count": 28,
     "metadata": {},
     "output_type": "execute_result"
    }
   ],
   "source": [
    "# This will convert 200 minutes to hours by diving by 60\n",
    "\n",
    "200 / 60"
   ]
  },
  {
   "cell_type": "code",
   "execution_count": null,
   "id": "30b940a7-7067-4db8-b562-a037a1514ca5",
   "metadata": {},
   "outputs": [],
   "source": []
  }
 ],
 "metadata": {
  "kernelspec": {
   "display_name": "Python [conda env:base]",
   "language": "python",
   "name": "conda-base-py"
  },
  "language_info": {
   "codemirror_mode": {
    "name": "ipython",
    "version": 3
   },
   "file_extension": ".py",
   "mimetype": "text/x-python",
   "name": "python",
   "nbconvert_exporter": "python",
   "pygments_lexer": "ipython3",
   "version": "3.12.7"
  }
 },
 "nbformat": 4,
 "nbformat_minor": 5
}
